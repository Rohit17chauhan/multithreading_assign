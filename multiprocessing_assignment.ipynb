{
 "cells": [
  {
   "cell_type": "code",
   "execution_count": 1,
   "id": "27fadda6-13b7-4b4c-992c-7820634e2bcc",
   "metadata": {},
   "outputs": [
    {
     "data": {
      "text/plain": [
       "' Q1. What is multiprocessing in python? Why is it useful?'"
      ]
     },
     "execution_count": 1,
     "metadata": {},
     "output_type": "execute_result"
    }
   ],
   "source": [
    "\"\"\" Q1. What is multiprocessing in python? Why is it useful?\"\"\""
   ]
  },
  {
   "cell_type": "code",
   "execution_count": 4,
   "id": "68fad92c-710b-4ae4-be8a-22af34dee65b",
   "metadata": {},
   "outputs": [],
   "source": [
    "Ans1=\"Multiprocessing in Python refers to a programming technique that allows you to create and manage multiple processes within a Python program. multiprocessing in Python is a valuable tool for achieving parallelism, improving performance, handling concurrency, isolating resources, and building scalable applications, especially when dealing with CPU-bound tasks or I/O-bound tasks that involve blocking operations.\""
   ]
  },
  {
   "cell_type": "code",
   "execution_count": 5,
   "id": "6f15a2a2-afa8-40c7-93e9-88d8ecd62cec",
   "metadata": {},
   "outputs": [
    {
     "data": {
      "text/plain": [
       "'Multiprocessing in Python refers to a programming technique that allows you to create and manage multiple processes within a Python program. multiprocessing in Python is a valuable tool for achieving parallelism, improving performance, handling concurrency, isolating resources, and building scalable applications, especially when dealing with CPU-bound tasks or I/O-bound tasks that involve blocking operations.'"
      ]
     },
     "execution_count": 5,
     "metadata": {},
     "output_type": "execute_result"
    }
   ],
   "source": [
    "Ans1"
   ]
  },
  {
   "cell_type": "code",
   "execution_count": 6,
   "id": "ac937aad-1bd1-4531-9487-7587a18b3dca",
   "metadata": {},
   "outputs": [
    {
     "data": {
      "text/plain": [
       "' Q2. What are the differences between multiprocessing and multithreading?  '"
      ]
     },
     "execution_count": 6,
     "metadata": {},
     "output_type": "execute_result"
    }
   ],
   "source": [
    "\"\"\" Q2. What are the differences between multiprocessing and multithreading?  \"\"\""
   ]
  },
  {
   "cell_type": "code",
   "execution_count": 7,
   "id": "eb130182-7cbc-45f0-8005-50fc4ce19593",
   "metadata": {},
   "outputs": [],
   "source": [
    "Ans2=\"Multiprocessing involves creating multiple independent processes, each with its own memory space and Python interpreter. These processes run concurrently and can take full advantage of multi-core CPUs.Multithreading involves creating multiple threads within a single process. Threads share the same memory space and Python interpreter as the main process. \""
   ]
  },
  {
   "cell_type": "code",
   "execution_count": 8,
   "id": "bfa5d1b7-4e27-41e9-8e57-57a69e3e5ce7",
   "metadata": {},
   "outputs": [
    {
     "data": {
      "text/plain": [
       "'Multiprocessing involves creating multiple independent processes, each with its own memory space and Python interpreter. These processes run concurrently and can take full advantage of multi-core CPUs.Multithreading involves creating multiple threads within a single process. Threads share the same memory space and Python interpreter as the main process. '"
      ]
     },
     "execution_count": 8,
     "metadata": {},
     "output_type": "execute_result"
    }
   ],
   "source": [
    "Ans2"
   ]
  },
  {
   "cell_type": "code",
   "execution_count": 9,
   "id": "3c38db08-c551-4737-b401-32d269c26d1b",
   "metadata": {},
   "outputs": [
    {
     "data": {
      "text/plain": [
       "' Q3. Write a python code to create a process using the multiprocessing module.'"
      ]
     },
     "execution_count": 9,
     "metadata": {},
     "output_type": "execute_result"
    }
   ],
   "source": [
    "\"\"\" Q3. Write a python code to create a process using the multiprocessing module.\"\"\""
   ]
  },
  {
   "cell_type": "code",
   "execution_count": 14,
   "id": "bff79ab8-9986-4709-b056-e186f392a1c9",
   "metadata": {},
   "outputs": [
    {
     "name": "stdout",
     "output_type": "stream",
     "text": [
      "[1, 4, 9, 16, 25, 36, 49, 64]\n"
     ]
    }
   ],
   "source": [
    "import multiprocessing\n",
    "def sqaure(n):\n",
    "    return n**2\n",
    "if __name__=='__main__':\n",
    "    with multiprocessing.Pool(processes=2) as pool:\n",
    "        output=pool.map(sqaure,[1,2,3,4,5,6,7,8])\n",
    "        print(output)\n"
   ]
  },
  {
   "cell_type": "code",
   "execution_count": 15,
   "id": "2e04e8a0-0854-4b93-951b-9235e23ed8d0",
   "metadata": {},
   "outputs": [
    {
     "data": {
      "text/plain": [
       "' Q4. What is a multiprocessing pool in python? Why is it used? '"
      ]
     },
     "execution_count": 15,
     "metadata": {},
     "output_type": "execute_result"
    }
   ],
   "source": [
    "\"\"\" Q4. What is a multiprocessing pool in python? Why is it used? \"\"\""
   ]
  },
  {
   "cell_type": "code",
   "execution_count": 16,
   "id": "9884857b-2896-454d-921a-63ecb888bff2",
   "metadata": {},
   "outputs": [],
   "source": [
    "Ans4=\"In Python, a multiprocessing pool is a part of the multiprocessing module that provides a convenient way to parallelize the execution of a function across multiple processes. we use the pool to get a vlue in bulk formate.\""
   ]
  },
  {
   "cell_type": "code",
   "execution_count": 17,
   "id": "ba8ebad7-ff80-429d-a8b3-f4861bd4c745",
   "metadata": {},
   "outputs": [
    {
     "data": {
      "text/plain": [
       "'In Python, a multiprocessing pool is a part of the multiprocessing module that provides a convenient way to parallelize the execution of a function across multiple processes. we use the pool to get a vlue in bulk formate.'"
      ]
     },
     "execution_count": 17,
     "metadata": {},
     "output_type": "execute_result"
    }
   ],
   "source": [
    "Ans4"
   ]
  },
  {
   "cell_type": "code",
   "execution_count": 18,
   "id": "680ff279-469a-404e-8f9a-b3ba0b7e1ca7",
   "metadata": {},
   "outputs": [
    {
     "data": {
      "text/plain": [
       "' Q5. How can we create a pool of worker processes in python using the multiprocessing module? '"
      ]
     },
     "execution_count": 18,
     "metadata": {},
     "output_type": "execute_result"
    }
   ],
   "source": [
    "\"\"\" Q5. How can we create a pool of worker processes in python using the multiprocessing module? \"\"\""
   ]
  },
  {
   "cell_type": "code",
   "execution_count": 24,
   "id": "4e5100c8-8d71-47f0-a67a-1037487999c7",
   "metadata": {},
   "outputs": [],
   "source": [
    "Ans5=\"if __name__=='__main__':/n with multiprocessing.Pool(processes=number of process required) as pool:\""
   ]
  },
  {
   "cell_type": "code",
   "execution_count": 25,
   "id": "4db68b0a-3f64-4f9f-92d5-ff7dc5057e45",
   "metadata": {},
   "outputs": [
    {
     "data": {
      "text/plain": [
       "\"if __name__=='__main__':/n with multiprocessing.Pool(processes=number of process required) as pool:\""
      ]
     },
     "execution_count": 25,
     "metadata": {},
     "output_type": "execute_result"
    }
   ],
   "source": [
    "Ans5"
   ]
  },
  {
   "cell_type": "code",
   "execution_count": 26,
   "id": "c9239548-61d3-49c9-b0d1-f85b2079bbb6",
   "metadata": {},
   "outputs": [
    {
     "data": {
      "text/plain": [
       "' Q6. Write a python program to create 4 processes, each process should print a different number using the\\nmultiprocessing module in python.'"
      ]
     },
     "execution_count": 26,
     "metadata": {},
     "output_type": "execute_result"
    }
   ],
   "source": [
    "\"\"\" Q6. Write a python program to create 4 processes, each process should print a different number using the\n",
    "multiprocessing module in python.\"\"\""
   ]
  },
  {
   "cell_type": "code",
   "execution_count": 28,
   "id": "e692ad2e-fd8b-4b9d-9224-e6849064f13b",
   "metadata": {},
   "outputs": [
    {
     "ename": "NameError",
     "evalue": "name 'i' is not defined",
     "output_type": "error",
     "traceback": [
      "\u001b[0;31m---------------------------------------------------------------------------\u001b[0m",
      "\u001b[0;31mNameError\u001b[0m                                 Traceback (most recent call last)",
      "Cell \u001b[0;32mIn[28], line 9\u001b[0m\n\u001b[1;32m      6\u001b[0m \u001b[38;5;28;01mif\u001b[39;00m \u001b[38;5;18m__name__\u001b[39m\u001b[38;5;241m==\u001b[39m\u001b[38;5;124m'\u001b[39m\u001b[38;5;124m__main__\u001b[39m\u001b[38;5;124m'\u001b[39m:\n\u001b[1;32m      7\u001b[0m     \u001b[38;5;28;01mwith\u001b[39;00m multiprocessing\u001b[38;5;241m.\u001b[39mPool(processes\u001b[38;5;241m=\u001b[39m\u001b[38;5;241m4\u001b[39m) \u001b[38;5;28;01mas\u001b[39;00m pool:\n\u001b[0;32m----> 9\u001b[0m         \u001b[38;5;28mprint\u001b[39m(\u001b[43mi\u001b[49m)\n",
      "\u001b[0;31mNameError\u001b[0m: name 'i' is not defined"
     ]
    }
   ],
   "source": [
    "import multiprocessing\n",
    "def new_num(n):\n",
    "    return n\n",
    "        \n",
    "if __name__=='__main__':\n",
    "    with multiprocessing.Pool(processes=4) as pool:\n",
    "        pool.map(new_num\n",
    "        \n",
    "        \n",
    "        \n",
    "    "
   ]
  },
  {
   "cell_type": "code",
   "execution_count": null,
   "id": "5d16f23d-85d4-4aa8-b04b-1502b83e1dea",
   "metadata": {},
   "outputs": [],
   "source": []
  }
 ],
 "metadata": {
  "kernelspec": {
   "display_name": "Python 3 (ipykernel)",
   "language": "python",
   "name": "python3"
  },
  "language_info": {
   "codemirror_mode": {
    "name": "ipython",
    "version": 3
   },
   "file_extension": ".py",
   "mimetype": "text/x-python",
   "name": "python",
   "nbconvert_exporter": "python",
   "pygments_lexer": "ipython3",
   "version": "3.10.8"
  }
 },
 "nbformat": 4,
 "nbformat_minor": 5
}
